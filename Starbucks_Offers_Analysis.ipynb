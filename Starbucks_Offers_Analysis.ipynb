{
 "cells": [
  {
   "cell_type": "markdown",
   "metadata": {},
   "source": [
    "# Read cleaned Input files"
   ]
  },
  {
   "cell_type": "code",
   "execution_count": 1,
   "metadata": {},
   "outputs": [],
   "source": [
    "import pandas as pd\n",
    "import numpy as np\n",
    "import pickle\n",
    "import matplotlib.pyplot as plt\n",
    "import math\n",
    "import json\n",
    "get_ipython().run_line_magic('matplotlib', 'inline')\n",
    "\n",
    "# read in the json files\n",
    "portfolio = pd.read_json('data/portfolio_clean.json', orient='records', lines=True)\n",
    "profile = pd.read_json('data/new_profile.json', orient='records', lines=True)\n",
    "transcript = pd.read_json('data/transcript_profile_merge.json', orient='records', lines=True)"
   ]
  },
  {
   "cell_type": "markdown",
   "metadata": {},
   "source": [
    "# Data Exploration & Visualization"
   ]
  },
  {
   "cell_type": "code",
   "execution_count": 2,
   "metadata": {},
   "outputs": [
    {
     "data": {
      "text/html": [
       "<div>\n",
       "<style scoped>\n",
       "    .dataframe tbody tr th:only-of-type {\n",
       "        vertical-align: middle;\n",
       "    }\n",
       "\n",
       "    .dataframe tbody tr th {\n",
       "        vertical-align: top;\n",
       "    }\n",
       "\n",
       "    .dataframe thead th {\n",
       "        text-align: right;\n",
       "    }\n",
       "</style>\n",
       "<table border=\"1\" class=\"dataframe\">\n",
       "  <thead>\n",
       "    <tr style=\"text-align: right;\">\n",
       "      <th></th>\n",
       "      <th>income</th>\n",
       "      <th>age</th>\n",
       "      <th>days_being_members</th>\n",
       "    </tr>\n",
       "  </thead>\n",
       "  <tbody>\n",
       "    <tr>\n",
       "      <th>count</th>\n",
       "      <td>14825.000000</td>\n",
       "      <td>14825.000000</td>\n",
       "      <td>14825.000000</td>\n",
       "    </tr>\n",
       "    <tr>\n",
       "      <th>mean</th>\n",
       "      <td>65404.991568</td>\n",
       "      <td>54.393524</td>\n",
       "      <td>1783.478988</td>\n",
       "    </tr>\n",
       "    <tr>\n",
       "      <th>std</th>\n",
       "      <td>21598.299410</td>\n",
       "      <td>17.383705</td>\n",
       "      <td>419.205158</td>\n",
       "    </tr>\n",
       "    <tr>\n",
       "      <th>min</th>\n",
       "      <td>30000.000000</td>\n",
       "      <td>18.000000</td>\n",
       "      <td>1261.000000</td>\n",
       "    </tr>\n",
       "    <tr>\n",
       "      <th>25%</th>\n",
       "      <td>49000.000000</td>\n",
       "      <td>42.000000</td>\n",
       "      <td>1469.000000</td>\n",
       "    </tr>\n",
       "    <tr>\n",
       "      <th>50%</th>\n",
       "      <td>64000.000000</td>\n",
       "      <td>55.000000</td>\n",
       "      <td>1619.000000</td>\n",
       "    </tr>\n",
       "    <tr>\n",
       "      <th>75%</th>\n",
       "      <td>80000.000000</td>\n",
       "      <td>66.000000</td>\n",
       "      <td>2058.000000</td>\n",
       "    </tr>\n",
       "    <tr>\n",
       "      <th>max</th>\n",
       "      <td>120000.000000</td>\n",
       "      <td>101.000000</td>\n",
       "      <td>3084.000000</td>\n",
       "    </tr>\n",
       "  </tbody>\n",
       "</table>\n",
       "</div>"
      ],
      "text/plain": [
       "              income           age  days_being_members\n",
       "count   14825.000000  14825.000000        14825.000000\n",
       "mean    65404.991568     54.393524         1783.478988\n",
       "std     21598.299410     17.383705          419.205158\n",
       "min     30000.000000     18.000000         1261.000000\n",
       "25%     49000.000000     42.000000         1469.000000\n",
       "50%     64000.000000     55.000000         1619.000000\n",
       "75%     80000.000000     66.000000         2058.000000\n",
       "max    120000.000000    101.000000         3084.000000"
      ]
     },
     "execution_count": 2,
     "metadata": {},
     "output_type": "execute_result"
    }
   ],
   "source": [
    "profile[['income','age','days_being_members']].describe()"
   ]
  },
  {
   "cell_type": "code",
   "execution_count": 3,
   "metadata": {},
   "outputs": [
    {
     "data": {
      "image/png": "[encoded data removed]",
      "text/plain": [
       "<Figure size 432x288 with 1 Axes>"
      ]
     },
     "metadata": {
      "needs_background": "light"
     },
     "output_type": "display_data"
    },
    {
     "data": {
      "image/png": "[encoded data removed]",
      "text/plain": [
       "<Figure size 432x288 with 1 Axes>"
      ]
     },
     "metadata": {
      "needs_background": "light"
     },
     "output_type": "display_data"
    },
    {
     "data": {
      "image/png": "[encoded data removed]",
      "text/plain": [
       "<Figure size 432x288 with 1 Axes>"
      ]
     },
     "metadata": {
      "needs_background": "light"
     },
     "output_type": "display_data"
    }
   ],
   "source": [
    "def plot_customer_data():\n",
    "    '''Plot customer income and age data'''\n",
    "    \n",
    "    # Plot histogram of user income\n",
    "    customer_income = profile['income'].plot(kind='hist', bins=15, title='Distribution of Customer Income')\n",
    "    customer_income.set_xlabel(\"Customer Income\")\n",
    "    plt.savefig('img/Distribution_of_Customer_Income.png')\n",
    "    # Plot histogram of customer age\n",
    "    plt.figure()\n",
    "    customer_age = profile['age'].plot(kind='hist', bins=40, title='Distribution of Customer Age')\n",
    "    customer_age.set_xlabel(\"Customer Age\")\n",
    "    plt.savefig('img/Distribution_of_Customer_Age.png')\n",
    "    plt.figure()\n",
    "    costumer_amount = transcript['amount'].plot(kind='hist', bins=100,logy=True,xlim=(0,100),title='Distribution of amounts spent by customer');\n",
    "    costumer_amount.set_xlabel(\"Customer Amount Spent\")\n",
    "    plt.savefig('img/Distribution_of_amounts_spent_by_customer.png')\n",
    "    \n",
    "plot_customer_data()"
   ]
  },
  {
   "cell_type": "markdown",
   "metadata": {},
   "source": [
    "* Sample mean age is 54 years. Sample has a relatively normal distribuion.\n",
    "* Sample Mean income is arround 65000. \n",
    "* The mayority of the transactions done in Starbucks are between 0 and 30."
   ]
  },
  {
   "cell_type": "code",
   "execution_count": 4,
   "metadata": {},
   "outputs": [
    {
     "data": {
      "image/png": "[encoded data removed]",
      "text/plain": [
       "<Figure size 432x288 with 1 Axes>"
      ]
     },
     "metadata": {
      "needs_background": "light"
     },
     "output_type": "display_data"
    }
   ],
   "source": [
    "amount_age = transcript.groupby(['age']).agg('sum')['amount'].plot(title='Amount spent by customer age')\n",
    "amount_age.set_xlabel(\"Customer age\")\n",
    "amount_age.set_ylabel(\"Amount spent\")\n",
    "plt.savefig('img/Amount_spent_by_customer_age.png')"
   ]
  },
  {
   "cell_type": "code",
   "execution_count": 5,
   "metadata": {},
   "outputs": [
    {
     "data": {
      "image/png": "[encoded data removed]",
      "text/plain": [
       "<Figure size 432x288 with 1 Axes>"
      ]
     },
     "metadata": {
      "needs_background": "light"
     },
     "output_type": "display_data"
    }
   ],
   "source": [
    "amount_age = transcript.groupby(['age']).agg('mean')['income'].plot.area(xticks=(np.arange(15,105,5)),title='Income by customer age')\n",
    "amount_age.set_xlabel(\"Customer age\")\n",
    "amount_age.set_ylabel(\"Customer Income\")\n",
    "plt.savefig('img/Income_by_customer_age.png')"
   ]
  },
  {
   "cell_type": "code",
   "execution_count": 6,
   "metadata": {},
   "outputs": [
    {
     "data": {
      "image/png": "[encoded data removed]",
      "text/plain": [
       "<Figure size 432x288 with 1 Axes>"
      ]
     },
     "metadata": {
      "needs_background": "light"
     },
     "output_type": "display_data"
    }
   ],
   "source": [
    "age_amount = transcript.groupby(['age'])['amount'].agg('mean')\n",
    "age_amount.plot.area(xticks=(np.arange(15,105,5)),title='Mean Amounts spent by age');\n",
    "plt.savefig('img/Mean_Amounts_spent_by_age.png')"
   ]
  },
  {
   "cell_type": "markdown",
   "metadata": {},
   "source": [
    "* Ammount spent seems to be proportional to the age (higher the age, higher the mean ammount spent) "
   ]
  },
  {
   "cell_type": "code",
   "execution_count": 7,
   "metadata": {},
   "outputs": [
    {
     "data": {
      "image/png": "[encoded data removed]",
      "text/plain": [
       "<Figure size 432x288 with 2 Axes>"
      ]
     },
     "metadata": {
      "needs_background": "light"
     },
     "output_type": "display_data"
    }
   ],
   "source": [
    "import seaborn as sns \n",
    "sns.heatmap(transcript.corr(),annot=True,fmt='.1f'); # see the correlation of each qualitative variable"
   ]
  },
  {
   "cell_type": "markdown",
   "metadata": {},
   "source": [
    "* No strong correlation is seen between parameters"
   ]
  },
  {
   "cell_type": "code",
   "execution_count": 8,
   "metadata": {},
   "outputs": [
    {
     "data": {
      "text/html": [
       "<div>\n",
       "<style scoped>\n",
       "    .dataframe tbody tr th:only-of-type {\n",
       "        vertical-align: middle;\n",
       "    }\n",
       "\n",
       "    .dataframe tbody tr th {\n",
       "        vertical-align: top;\n",
       "    }\n",
       "\n",
       "    .dataframe thead th {\n",
       "        text-align: right;\n",
       "    }\n",
       "</style>\n",
       "<table border=\"1\" class=\"dataframe\">\n",
       "  <thead>\n",
       "    <tr style=\"text-align: right;\">\n",
       "      <th></th>\n",
       "      <th>event</th>\n",
       "      <th>time</th>\n",
       "      <th>offer completed</th>\n",
       "      <th>offer received</th>\n",
       "      <th>offer viewed</th>\n",
       "      <th>transaction</th>\n",
       "      <th>offer_id</th>\n",
       "      <th>amount</th>\n",
       "      <th>gender</th>\n",
       "      <th>age</th>\n",
       "      <th>became_member_on</th>\n",
       "      <th>income</th>\n",
       "      <th>days_being_members</th>\n",
       "      <th>customer_id</th>\n",
       "    </tr>\n",
       "  </thead>\n",
       "  <tbody>\n",
       "    <tr>\n",
       "      <th>0</th>\n",
       "      <td>offer received</td>\n",
       "      <td>0</td>\n",
       "      <td>0</td>\n",
       "      <td>1</td>\n",
       "      <td>0</td>\n",
       "      <td>0</td>\n",
       "      <td>3.0</td>\n",
       "      <td>0.00</td>\n",
       "      <td>F</td>\n",
       "      <td>75</td>\n",
       "      <td>20170509</td>\n",
       "      <td>100000</td>\n",
       "      <td>1704</td>\n",
       "      <td>1</td>\n",
       "    </tr>\n",
       "    <tr>\n",
       "      <th>1</th>\n",
       "      <td>offer viewed</td>\n",
       "      <td>6</td>\n",
       "      <td>0</td>\n",
       "      <td>0</td>\n",
       "      <td>1</td>\n",
       "      <td>0</td>\n",
       "      <td>3.0</td>\n",
       "      <td>0.00</td>\n",
       "      <td>F</td>\n",
       "      <td>75</td>\n",
       "      <td>20170509</td>\n",
       "      <td>100000</td>\n",
       "      <td>1704</td>\n",
       "      <td>1</td>\n",
       "    </tr>\n",
       "    <tr>\n",
       "      <th>2</th>\n",
       "      <td>transaction</td>\n",
       "      <td>132</td>\n",
       "      <td>0</td>\n",
       "      <td>0</td>\n",
       "      <td>0</td>\n",
       "      <td>1</td>\n",
       "      <td>NaN</td>\n",
       "      <td>19.89</td>\n",
       "      <td>F</td>\n",
       "      <td>75</td>\n",
       "      <td>20170509</td>\n",
       "      <td>100000</td>\n",
       "      <td>1704</td>\n",
       "      <td>1</td>\n",
       "    </tr>\n",
       "    <tr>\n",
       "      <th>3</th>\n",
       "      <td>offer completed</td>\n",
       "      <td>132</td>\n",
       "      <td>1</td>\n",
       "      <td>0</td>\n",
       "      <td>0</td>\n",
       "      <td>0</td>\n",
       "      <td>3.0</td>\n",
       "      <td>0.00</td>\n",
       "      <td>F</td>\n",
       "      <td>75</td>\n",
       "      <td>20170509</td>\n",
       "      <td>100000</td>\n",
       "      <td>1704</td>\n",
       "      <td>1</td>\n",
       "    </tr>\n",
       "    <tr>\n",
       "      <th>4</th>\n",
       "      <td>transaction</td>\n",
       "      <td>144</td>\n",
       "      <td>0</td>\n",
       "      <td>0</td>\n",
       "      <td>0</td>\n",
       "      <td>1</td>\n",
       "      <td>NaN</td>\n",
       "      <td>17.78</td>\n",
       "      <td>F</td>\n",
       "      <td>75</td>\n",
       "      <td>20170509</td>\n",
       "      <td>100000</td>\n",
       "      <td>1704</td>\n",
       "      <td>1</td>\n",
       "    </tr>\n",
       "  </tbody>\n",
       "</table>\n",
       "</div>"
      ],
      "text/plain": [
       "             event  time  offer completed  offer received  offer viewed  \\\n",
       "0   offer received     0                0               1             0   \n",
       "1     offer viewed     6                0               0             1   \n",
       "2      transaction   132                0               0             0   \n",
       "3  offer completed   132                1               0             0   \n",
       "4      transaction   144                0               0             0   \n",
       "\n",
       "   transaction  offer_id  amount gender  age  became_member_on  income  \\\n",
       "0            0       3.0    0.00      F   75          20170509  100000   \n",
       "1            0       3.0    0.00      F   75          20170509  100000   \n",
       "2            1       NaN   19.89      F   75          20170509  100000   \n",
       "3            0       3.0    0.00      F   75          20170509  100000   \n",
       "4            1       NaN   17.78      F   75          20170509  100000   \n",
       "\n",
       "   days_being_members  customer_id  \n",
       "0                1704            1  \n",
       "1                1704            1  \n",
       "2                1704            1  \n",
       "3                1704            1  \n",
       "4                1704            1  "
      ]
     },
     "execution_count": 8,
     "metadata": {},
     "output_type": "execute_result"
    }
   ],
   "source": [
    "transcript.head()"
   ]
  },
  {
   "cell_type": "markdown",
   "metadata": {},
   "source": [
    "# Recomendation Engine"
   ]
  },
  {
   "cell_type": "code",
   "execution_count": 9,
   "metadata": {},
   "outputs": [],
   "source": [
    "def create_costumer_matrix(offer_customer, filename):\n",
    "    '''\n",
    "    Return the costumer matrix that indicate the number of offer completed of each user\n",
    "    \n",
    "    Inputs:\n",
    "    offer - a cleaned transcript dataframe\n",
    "    filename [string] - the file name that save the costumer_matrix\n",
    "    \n",
    "    Output:\n",
    "    user_item_matrix - the costumer_matrix \n",
    "        - row = customer \n",
    "        - column = offer\n",
    "        - value is the number of offer completed by the user \n",
    "            - NaN means no offer given to this customer\n",
    "    \n",
    "    '''\n",
    "    # create an empty matrix with nan values\n",
    "    costumer_matrix = offer_customer.groupby(['customer_id', 'offer_id'])['event'].agg(lambda x: np.nan).unstack()\n",
    "    # drop informational offer type\n",
    "    costumer_matrix.drop(list(portfolio[portfolio['offer_type']=='informational'].index), axis=1, inplace=True)\n",
    "    \n",
    "    for offer_id in costumer_matrix.columns:\n",
    "        print(\"Offer id: %i\"  %(offer_id))\n",
    "        for customer in costumer_matrix.index:\n",
    "            events = []\n",
    "            for event in offer_customer[(offer_customer['offer_id']==offer_id) & (offer_customer['customer_id']==customer)]['event']:\n",
    "                events.append(event)\n",
    "            if len(events) >= 3:\n",
    "                costumer_matrix.loc[customer, offer_id] = 0\n",
    "                for i in range(len(events) - 2):\n",
    "                    # If teh sequence is offer recieved -> offer viewed -> offer completed, this will mean that the offer was usefull\n",
    "                    # Transaction is not used since its not linked with the offers\n",
    "                    if (events[i] == 'offer received') & (events[i+1] == 'offer viewed') & (events[i+2] == 'offer completed'):\n",
    "                        costumer_matrix.loc[customer, offer_id] += 1\n",
    "            elif len(events) > 0:\n",
    "                costumer_matrix.loc[customer, offer_id] = 0\n",
    "    \n",
    "    # store the martix into pickle file\n",
    "    fh = open(filename, 'wb')\n",
    "    pickle.dump(costumer_matrix,fh)\n",
    "    fh.close()\n",
    "    print(\"Done\")\n",
    "    \n",
    "    return costumer_matrix"
   ]
  },
  {
   "cell_type": "code",
   "execution_count": 10,
   "metadata": {},
   "outputs": [],
   "source": [
    "full_offer_customer = transcript[['event', 'customer_id','offer_id','time']].sort_values('time')\n",
    "# Divide into Train and Test DF\n",
    "train_offer_customer = full_offer_customer[:int(full_offer_customer.shape[0]*0.7)]\n",
    "test_offer_customer = full_offer_customer[int(full_offer_customer.shape[0]*0.7):]"
   ]
  },
  {
   "cell_type": "code",
   "execution_count": 11,
   "metadata": {},
   "outputs": [
    {
     "name": "stdout",
     "output_type": "stream",
     "text": [
      "Offer id: 0\n",
      "Offer id: 1\n",
      "Offer id: 3\n",
      "Offer id: 4\n",
      "Offer id: 5\n",
      "Offer id: 6\n",
      "Offer id: 8\n",
      "Offer id: 9\n",
      "Done\n",
      "Offer id: 0\n",
      "Offer id: 1\n",
      "Offer id: 3\n",
      "Offer id: 4\n",
      "Offer id: 5\n",
      "Offer id: 6\n",
      "Offer id: 8\n",
      "Offer id: 9\n",
      "Done\n",
      "Offer id: 0\n",
      "Offer id: 1\n",
      "Offer id: 3\n",
      "Offer id: 4\n",
      "Offer id: 5\n",
      "Offer id: 6\n",
      "Offer id: 8\n",
      "Offer id: 9\n",
      "Done\n"
     ]
    }
   ],
   "source": [
    "full_customer_matrix = create_costumer_matrix(full_offer_customer, 'full_customer_matrix.p')\n",
    "train_customer_matrix = create_costumer_matrix(train_offer_customer, 'train_customer_matrix.p')\n",
    "test_customer_matrix = create_costumer_matrix(test_offer_customer, 'test_customer_matrix.p')"
   ]
  },
  {
   "cell_type": "code",
   "execution_count": 63,
   "metadata": {},
   "outputs": [],
   "source": [
    "def FunkSVD(full_mat, latent_features=5, learning_rate=0.0001, iters=250):\n",
    "    '''\n",
    "    This function performs matrix factorization using a basic form of FunkSVD with no regularization\n",
    "    \n",
    "    Inputs:\n",
    "    full_mat - [numpy array] a matrix with customers as rows, offers as columns, and offer completed as values\n",
    "    latent_features - [int] the number of latent features used\n",
    "    learning_rate - [float] the learning rate \n",
    "    iters - [int] the number of iterations\n",
    "    \n",
    "    Outputs:\n",
    "    customer_mat - [numpy array] a customer by latent feature matrix\n",
    "    offer_mat - [numpy array] a latent feature by offer matrix\n",
    "    '''\n",
    "    \n",
    "    # Set up useful values to be used through the rest of the function\n",
    "    n_customer = full_mat.shape[0]\n",
    "    n_offers = full_mat.shape[1]\n",
    "    num_full = np.count_nonzero(~np.isnan(full_mat))\n",
    "    \n",
    "    # initialize the user and movie matrices with random values\n",
    "    customer_mat = np.random.rand(n_customer, latent_features)\n",
    "    offer_mat = np.random.rand(latent_features, n_offers)\n",
    "    \n",
    "    # initialize sse at 0 for first iteration\n",
    "    sse_accum = 0\n",
    "    \n",
    "    # keep track of iteration and MSE\n",
    "    print(\"Iteration  Acumulative Mean Squared Error \")\n",
    "    \n",
    "    # for each iteration\n",
    "    for iteration in range(iters):\n",
    "\n",
    "        # update our sse\n",
    "        old_sse = sse_accum\n",
    "        sse_accum = 0\n",
    "        \n",
    "        # For each customer offer pair\n",
    "        for i in range(n_customer):\n",
    "            for j in range(n_offers):\n",
    "                \n",
    "                # if the rating exists\n",
    "                if full_mat[i, j] >= 0:\n",
    "                    \n",
    "                    # compute the error as the actual minus the dot product of the customer and offer latent features\n",
    "                    diff = full_mat[i, j] - np.dot(customer_mat[i, :], offer_mat[:, j])\n",
    "                    \n",
    "                    # Keep track of the sum of squared errors for the matrix\n",
    "                    sse_accum += diff**2\n",
    "                    \n",
    "                    # update the values in each matrix in the direction of the gradient\n",
    "                    for k in range(latent_features):\n",
    "                        customer_mat[i, k] += learning_rate * (2*diff*offer_mat[k, j])\n",
    "                        offer_mat[k, j] += learning_rate * (2*diff*customer_mat[i, k])\n",
    "\n",
    "        # print results\n",
    "        print(\"%d \\t\\t %f\" % (iteration+1, sse_accum / num_full))\n",
    "        \n",
    "    return customer_mat, offer_mat "
   ]
  },
  {
   "cell_type": "markdown",
   "metadata": {},
   "source": [
    "## Hyper Parameter "
   ]
  },
  {
   "cell_type": "code",
   "execution_count": 59,
   "metadata": {},
   "outputs": [
    {
     "name": "stdout",
     "output_type": "stream",
     "text": [
      "Mean square error for 5 latent factor\n",
      "0.2919261404806285\n",
      "Mean square error for 10 latent factor\n",
      "0.3149760963513961\n",
      "Mean square error for 15 latent factor\n",
      "0.30171923222383207\n",
      "Mean square error for 20 latent factor\n",
      "0.3043782739321955\n",
      "Mean square error for 25 latent factor\n",
      "0.30579056616774947\n"
     ]
    }
   ],
   "source": [
    "accur = []\n",
    "for lf in range(5,30,5):\n",
    "    print('Mean square error for %i latent factor' %lf)\n",
    "    train_customer_mat_lf, train_offer_mat_lf = FunkSVD(train_customer_matrix_np, latent_features=lf, learning_rate=0.005, iters=300)\n",
    "    # Evaluation for latent features\n",
    "    acurracy = validation_comparison(test_customer_matrix, train_customer_mat_lf, train_offer_mat_lf)\n",
    "    accur.append(acurracy)"
   ]
  },
  {
   "cell_type": "code",
   "execution_count": 62,
   "metadata": {},
   "outputs": [
    {
     "data": {
      "text/plain": [
       "Text(0, 0.5, 'Accuracy')"
      ]
     },
     "execution_count": 62,
     "metadata": {},
     "output_type": "execute_result"
    },
    {
     "data": {
      "image/png": "[encoded data removed]",
      "text/plain": [
       "<Figure size 432x288 with 1 Axes>"
      ]
     },
     "metadata": {
      "needs_background": "light"
     },
     "output_type": "display_data"
    }
   ],
   "source": [
    "x100 = [5,10,15,20,25]\n",
    "y100 = [0.197,0.215,0.248,0.266,0.268]\n",
    "y200 = [0.267,0.292,0.297,0.308,0.304]\n",
    "y300 = [0.292,0.315,0.302,0.304,0.307] \n",
    "plt.plot(x100,y100, label='iter100');\n",
    "plt.plot(x100,y200, label='iter200');\n",
    "plt.plot(x100,y300, label='iter300');\n",
    "plt.legend()\n",
    "plt.xlabel('Latent Features')\n",
    "plt.ylabel('Accuracy')"
   ]
  },
  {
   "cell_type": "code",
   "execution_count": 64,
   "metadata": {
    "scrolled": true
   },
   "outputs": [
    {
     "name": "stdout",
     "output_type": "stream",
     "text": [
      "Iteration  Acumulative Mean Squared Error \n",
      "1 \t\t 0.277722\n",
      "2 \t\t 0.244253\n",
      "3 \t\t 0.243950\n",
      "4 \t\t 0.243643\n",
      "5 \t\t 0.243335\n",
      "6 \t\t 0.243025\n",
      "7 \t\t 0.242712\n",
      "8 \t\t 0.242397\n",
      "9 \t\t 0.242079\n",
      "10 \t\t 0.241759\n",
      "11 \t\t 0.241436\n",
      "12 \t\t 0.241109\n",
      "13 \t\t 0.240780\n",
      "14 \t\t 0.240447\n",
      "15 \t\t 0.240110\n",
      "16 \t\t 0.239769\n",
      "17 \t\t 0.239425\n",
      "18 \t\t 0.239075\n",
      "19 \t\t 0.238722\n",
      "20 \t\t 0.238363\n",
      "21 \t\t 0.237999\n",
      "22 \t\t 0.237629\n",
      "23 \t\t 0.237254\n",
      "24 \t\t 0.236872\n",
      "25 \t\t 0.236484\n",
      "26 \t\t 0.236088\n",
      "27 \t\t 0.235685\n",
      "28 \t\t 0.235275\n",
      "29 \t\t 0.234855\n",
      "30 \t\t 0.234427\n",
      "31 \t\t 0.233990\n",
      "32 \t\t 0.233542\n",
      "33 \t\t 0.233084\n",
      "34 \t\t 0.232615\n",
      "35 \t\t 0.232134\n",
      "36 \t\t 0.231640\n",
      "37 \t\t 0.231133\n",
      "38 \t\t 0.230612\n",
      "39 \t\t 0.230076\n",
      "40 \t\t 0.229525\n",
      "41 \t\t 0.228957\n",
      "42 \t\t 0.228371\n",
      "43 \t\t 0.227767\n",
      "44 \t\t 0.227144\n",
      "45 \t\t 0.226500\n",
      "46 \t\t 0.225835\n",
      "47 \t\t 0.225146\n",
      "48 \t\t 0.224435\n",
      "49 \t\t 0.223698\n",
      "50 \t\t 0.222934\n",
      "51 \t\t 0.222143\n",
      "52 \t\t 0.221323\n",
      "53 \t\t 0.220473\n",
      "54 \t\t 0.219591\n",
      "55 \t\t 0.218676\n",
      "56 \t\t 0.217727\n",
      "57 \t\t 0.216741\n",
      "58 \t\t 0.215717\n",
      "59 \t\t 0.214655\n",
      "60 \t\t 0.213552\n",
      "61 \t\t 0.212407\n",
      "62 \t\t 0.211218\n",
      "63 \t\t 0.209984\n",
      "64 \t\t 0.208704\n",
      "65 \t\t 0.207376\n",
      "66 \t\t 0.205998\n",
      "67 \t\t 0.204570\n",
      "68 \t\t 0.203090\n",
      "69 \t\t 0.201557\n",
      "70 \t\t 0.199971\n",
      "71 \t\t 0.198330\n",
      "72 \t\t 0.196633\n",
      "73 \t\t 0.194880\n",
      "74 \t\t 0.193071\n",
      "75 \t\t 0.191206\n",
      "76 \t\t 0.189283\n",
      "77 \t\t 0.187304\n",
      "78 \t\t 0.185269\n",
      "79 \t\t 0.183179\n",
      "80 \t\t 0.181034\n",
      "81 \t\t 0.178836\n",
      "82 \t\t 0.176585\n",
      "83 \t\t 0.174285\n",
      "84 \t\t 0.171936\n",
      "85 \t\t 0.169540\n",
      "86 \t\t 0.167101\n",
      "87 \t\t 0.164620\n",
      "88 \t\t 0.162102\n",
      "89 \t\t 0.159547\n",
      "90 \t\t 0.156961\n",
      "91 \t\t 0.154347\n",
      "92 \t\t 0.151707\n",
      "93 \t\t 0.149046\n",
      "94 \t\t 0.146368\n",
      "95 \t\t 0.143676\n",
      "96 \t\t 0.140975\n",
      "97 \t\t 0.138268\n",
      "98 \t\t 0.135559\n",
      "99 \t\t 0.132853\n",
      "100 \t\t 0.130152\n",
      "101 \t\t 0.127462\n",
      "102 \t\t 0.124784\n",
      "103 \t\t 0.122124\n",
      "104 \t\t 0.119483\n",
      "105 \t\t 0.116866\n",
      "106 \t\t 0.114276\n",
      "107 \t\t 0.111714\n",
      "108 \t\t 0.109184\n",
      "109 \t\t 0.106687\n",
      "110 \t\t 0.104227\n",
      "111 \t\t 0.101804\n",
      "112 \t\t 0.099422\n",
      "113 \t\t 0.097080\n",
      "114 \t\t 0.094780\n",
      "115 \t\t 0.092524\n",
      "116 \t\t 0.090312\n",
      "117 \t\t 0.088144\n",
      "118 \t\t 0.086022\n",
      "119 \t\t 0.083946\n",
      "120 \t\t 0.081916\n",
      "121 \t\t 0.079931\n",
      "122 \t\t 0.077992\n",
      "123 \t\t 0.076099\n",
      "124 \t\t 0.074251\n",
      "125 \t\t 0.072448\n",
      "126 \t\t 0.070689\n",
      "127 \t\t 0.068974\n",
      "128 \t\t 0.067301\n",
      "129 \t\t 0.065671\n",
      "130 \t\t 0.064083\n",
      "131 \t\t 0.062535\n",
      "132 \t\t 0.061028\n",
      "133 \t\t 0.059559\n",
      "134 \t\t 0.058129\n",
      "135 \t\t 0.056735\n",
      "136 \t\t 0.055379\n",
      "137 \t\t 0.054057\n",
      "138 \t\t 0.052770\n",
      "139 \t\t 0.051517\n",
      "140 \t\t 0.050297\n",
      "141 \t\t 0.049108\n",
      "142 \t\t 0.047951\n",
      "143 \t\t 0.046824\n",
      "144 \t\t 0.045726\n",
      "145 \t\t 0.044656\n",
      "146 \t\t 0.043614\n",
      "147 \t\t 0.042599\n",
      "148 \t\t 0.041610\n",
      "149 \t\t 0.040647\n",
      "150 \t\t 0.039708\n",
      "151 \t\t 0.038793\n",
      "152 \t\t 0.037902\n",
      "153 \t\t 0.037033\n",
      "154 \t\t 0.036186\n",
      "155 \t\t 0.035360\n",
      "156 \t\t 0.034555\n",
      "157 \t\t 0.033770\n",
      "158 \t\t 0.033005\n",
      "159 \t\t 0.032259\n",
      "160 \t\t 0.031532\n",
      "161 \t\t 0.030822\n",
      "162 \t\t 0.030130\n",
      "163 \t\t 0.029455\n",
      "164 \t\t 0.028797\n",
      "165 \t\t 0.028154\n",
      "166 \t\t 0.027528\n",
      "167 \t\t 0.026916\n",
      "168 \t\t 0.026320\n",
      "169 \t\t 0.025738\n",
      "170 \t\t 0.025170\n",
      "171 \t\t 0.024616\n",
      "172 \t\t 0.024075\n",
      "173 \t\t 0.023548\n",
      "174 \t\t 0.023033\n",
      "175 \t\t 0.022530\n",
      "176 \t\t 0.022039\n",
      "177 \t\t 0.021560\n",
      "178 \t\t 0.021093\n",
      "179 \t\t 0.020636\n",
      "180 \t\t 0.020191\n",
      "181 \t\t 0.019756\n",
      "182 \t\t 0.019331\n",
      "183 \t\t 0.018916\n",
      "184 \t\t 0.018512\n",
      "185 \t\t 0.018116\n",
      "186 \t\t 0.017730\n",
      "187 \t\t 0.017353\n",
      "188 \t\t 0.016985\n",
      "189 \t\t 0.016626\n",
      "190 \t\t 0.016275\n",
      "191 \t\t 0.015932\n",
      "192 \t\t 0.015597\n",
      "193 \t\t 0.015270\n",
      "194 \t\t 0.014950\n",
      "195 \t\t 0.014638\n",
      "196 \t\t 0.014333\n",
      "197 \t\t 0.014035\n",
      "198 \t\t 0.013745\n",
      "199 \t\t 0.013460\n",
      "200 \t\t 0.013183\n",
      "201 \t\t 0.012911\n",
      "202 \t\t 0.012646\n",
      "203 \t\t 0.012388\n",
      "204 \t\t 0.012135\n",
      "205 \t\t 0.011887\n",
      "206 \t\t 0.011646\n",
      "207 \t\t 0.011410\n",
      "208 \t\t 0.011179\n",
      "209 \t\t 0.010954\n",
      "210 \t\t 0.010733\n",
      "211 \t\t 0.010518\n",
      "212 \t\t 0.010308\n",
      "213 \t\t 0.010102\n",
      "214 \t\t 0.009901\n",
      "215 \t\t 0.009705\n",
      "216 \t\t 0.009513\n",
      "217 \t\t 0.009325\n",
      "218 \t\t 0.009142\n",
      "219 \t\t 0.008963\n",
      "220 \t\t 0.008787\n",
      "221 \t\t 0.008616\n",
      "222 \t\t 0.008448\n",
      "223 \t\t 0.008285\n",
      "224 \t\t 0.008125\n",
      "225 \t\t 0.007968\n",
      "226 \t\t 0.007815\n",
      "227 \t\t 0.007665\n",
      "228 \t\t 0.007519\n",
      "229 \t\t 0.007376\n",
      "230 \t\t 0.007236\n",
      "231 \t\t 0.007099\n",
      "232 \t\t 0.006965\n",
      "233 \t\t 0.006834\n",
      "234 \t\t 0.006707\n",
      "235 \t\t 0.006581\n",
      "236 \t\t 0.006459\n",
      "237 \t\t 0.006339\n",
      "238 \t\t 0.006222\n",
      "239 \t\t 0.006107\n",
      "240 \t\t 0.005995\n",
      "241 \t\t 0.005885\n",
      "242 \t\t 0.005778\n",
      "243 \t\t 0.005673\n",
      "244 \t\t 0.005570\n",
      "245 \t\t 0.005470\n",
      "246 \t\t 0.005372\n",
      "247 \t\t 0.005275\n",
      "248 \t\t 0.005181\n",
      "249 \t\t 0.005089\n",
      "250 \t\t 0.004999\n",
      "251 \t\t 0.004910\n",
      "252 \t\t 0.004824\n",
      "253 \t\t 0.004739\n",
      "254 \t\t 0.004656\n",
      "255 \t\t 0.004575\n",
      "256 \t\t 0.004496\n",
      "257 \t\t 0.004418\n",
      "258 \t\t 0.004342\n",
      "259 \t\t 0.004267\n",
      "260 \t\t 0.004194\n",
      "261 \t\t 0.004122\n",
      "262 \t\t 0.004052\n",
      "263 \t\t 0.003984\n",
      "264 \t\t 0.003917\n",
      "265 \t\t 0.003851\n",
      "266 \t\t 0.003786\n",
      "267 \t\t 0.003723\n",
      "268 \t\t 0.003661\n",
      "269 \t\t 0.003600\n",
      "270 \t\t 0.003541\n",
      "271 \t\t 0.003483\n",
      "272 \t\t 0.003425\n",
      "273 \t\t 0.003369\n",
      "274 \t\t 0.003315\n",
      "275 \t\t 0.003261\n",
      "276 \t\t 0.003208\n",
      "277 \t\t 0.003156\n",
      "278 \t\t 0.003106\n",
      "279 \t\t 0.003056\n",
      "280 \t\t 0.003007\n",
      "281 \t\t 0.002959\n",
      "282 \t\t 0.002913\n",
      "283 \t\t 0.002867\n",
      "284 \t\t 0.002822\n",
      "285 \t\t 0.002777\n",
      "286 \t\t 0.002734\n",
      "287 \t\t 0.002691\n",
      "288 \t\t 0.002650\n",
      "289 \t\t 0.002609\n",
      "290 \t\t 0.002568\n",
      "291 \t\t 0.002529\n",
      "292 \t\t 0.002490\n",
      "293 \t\t 0.002452\n",
      "294 \t\t 0.002415\n",
      "295 \t\t 0.002378\n",
      "296 \t\t 0.002342\n",
      "297 \t\t 0.002307\n",
      "298 \t\t 0.002272\n",
      "299 \t\t 0.002238\n",
      "300 \t\t 0.002205\n"
     ]
    }
   ],
   "source": [
    "# Create user-by-item matrix - nothing to do here\n",
    "full_customer_matrix_np = np.array(full_customer_matrix)\n",
    "train_customer_matrix_np = np.array(train_customer_matrix)\n",
    "# Fit FunkSVD with the specified hyper parameters to the training data\n",
    "#full_customer_mat, full_offer_mat = FunkSVD(full_customer_matrix_np, latent_features=15, learning_rate=0.005, iters=200)\n",
    "train_customer_mat, train_offer_mat = FunkSVD(train_customer_matrix_np, latent_features=10, learning_rate=0.005, iters=300)"
   ]
  },
  {
   "cell_type": "markdown",
   "metadata": {},
   "source": [
    "## Validate Recomendation Model"
   ]
  },
  {
   "cell_type": "code",
   "execution_count": 65,
   "metadata": {},
   "outputs": [
    {
     "name": "stdout",
     "output_type": "stream",
     "text": [
      "For customer 5 we predict a 0.49 for offer 8.\n",
      "For customer 5 actual value is 1.0 for offer 8.\n"
     ]
    }
   ],
   "source": [
    "def cutomer_reaction_pred(customer_matrix,offer_matrix,customer_id,offer_id):\n",
    "    ''' predict how customers will react to an offer'''\n",
    "    try:\n",
    "        # Use the training data to create a series of users and movies that matches the ordering in training data\n",
    "        customer_ids_series = np.array(train_customer_matrix.index)\n",
    "        offer_ids_series = np.array(train_customer_matrix.columns)\n",
    "        # Customer row and offer Column\n",
    "        customer_row = np.where(customer_ids_series == customer_id)[0][0]\n",
    "        offer_col = np.where(offer_ids_series == offer_id)[0][0]\n",
    "        # Take dot product of that row and column in U and V to make prediction\n",
    "        pred = np.dot(customer_matrix[customer_row, :], offer_matrix[:, offer_col])\n",
    "        return pred\n",
    "    except:\n",
    "        # Customer does not exist in our data, predictions can't be done        \n",
    "        return None\n",
    "\n",
    "def print_prediction_summary(customer_id, offer_id, prediction,train_customer_matrix):\n",
    "    '''\n",
    "    Prints predicted data compared with actual data\n",
    "    '''\n",
    "    actual_val = train_customer_matrix[offer_id][customer_id]\n",
    "    predicted_val = prediction\n",
    "    print(\"For customer {} we predict a {} for offer {}.\".format(customer_id, round(prediction, 2), str(offer_id)))\n",
    "    print(\"For customer {} actual value is {} for offer {}.\".format(customer_id, round(actual_val, 2), str(offer_id)))\n",
    "\n",
    "# validate predicted value for customer_id 5 and offer id 8\n",
    "pred_cust5_offer8 = cutomer_reaction_pred(train_customer_mat,train_offer_mat,5,8)\n",
    "print_prediction_summary(5, 8, pred_cust5_offer8,test_customer_matrix)"
   ]
  },
  {
   "cell_type": "code",
   "execution_count": 66,
   "metadata": {},
   "outputs": [],
   "source": [
    "def validation_comparison(test_customer_matrix, train_customer_mat, train_offer_mat):\n",
    "    '''Measure the squared errors for the prediction'''\n",
    "    num_complete = np.count_nonzero(~np.isnan(test_customer_matrix))\n",
    "    \n",
    "    sse_accum = 0\n",
    "    \n",
    "    for customer_id in test_customer_matrix.index:\n",
    "        for offer_id in test_customer_matrix.columns:\n",
    "            if ~np.isnan(test_customer_matrix.loc[customer_id, offer_id]):\n",
    "                predict_value = cutomer_reaction_pred(train_customer_mat, train_offer_mat, customer_id, offer_id)\n",
    "                if predict_value != None:\n",
    "                    # compute the error as the actual minus the dot product of the user and offer latent features\n",
    "                    diff = test_customer_matrix.loc[customer_id, offer_id] - cutomer_reaction_pred(train_customer_mat, train_offer_mat, customer_id, offer_id)\n",
    "\n",
    "                    # Keep track of the sum of squared errors for the matrix\n",
    "                    sse_accum += diff**2\n",
    "    \n",
    "    print(sse_accum / num_complete)"
   ]
  },
  {
   "cell_type": "code",
   "execution_count": 67,
   "metadata": {},
   "outputs": [
    {
     "name": "stdout",
     "output_type": "stream",
     "text": [
      "0.312589774679857\n"
     ]
    }
   ],
   "source": [
    "# Evaluation for latent features of 15\n",
    "validation_comparison(test_customer_matrix, train_customer_mat, train_offer_mat)"
   ]
  },
  {
   "cell_type": "markdown",
   "metadata": {},
   "source": [
    "## Recomendations concernig the entire sample \n",
    "* Defined by the amount of revenue each offer provided. "
   ]
  },
  {
   "cell_type": "code",
   "execution_count": 18,
   "metadata": {},
   "outputs": [
    {
     "data": {
      "text/html": [
       "<div>\n",
       "<style scoped>\n",
       "    .dataframe tbody tr th:only-of-type {\n",
       "        vertical-align: middle;\n",
       "    }\n",
       "\n",
       "    .dataframe tbody tr th {\n",
       "        vertical-align: top;\n",
       "    }\n",
       "\n",
       "    .dataframe thead th {\n",
       "        text-align: right;\n",
       "    }\n",
       "</style>\n",
       "<table border=\"1\" class=\"dataframe\">\n",
       "  <thead>\n",
       "    <tr style=\"text-align: right;\">\n",
       "      <th></th>\n",
       "      <th>reward</th>\n",
       "      <th>difficulty</th>\n",
       "      <th>duration</th>\n",
       "      <th>offer_type</th>\n",
       "      <th>id</th>\n",
       "      <th>web</th>\n",
       "      <th>email</th>\n",
       "      <th>mobile</th>\n",
       "      <th>social</th>\n",
       "      <th>bogo</th>\n",
       "      <th>discount</th>\n",
       "      <th>informational</th>\n",
       "    </tr>\n",
       "  </thead>\n",
       "  <tbody>\n",
       "    <tr>\n",
       "      <th>0</th>\n",
       "      <td>10</td>\n",
       "      <td>10</td>\n",
       "      <td>7</td>\n",
       "      <td>bogo</td>\n",
       "      <td>ae264e3637204a6fb9bb56bc8210ddfd</td>\n",
       "      <td>0</td>\n",
       "      <td>1</td>\n",
       "      <td>1</td>\n",
       "      <td>1</td>\n",
       "      <td>1</td>\n",
       "      <td>0</td>\n",
       "      <td>0</td>\n",
       "    </tr>\n",
       "    <tr>\n",
       "      <th>1</th>\n",
       "      <td>10</td>\n",
       "      <td>10</td>\n",
       "      <td>5</td>\n",
       "      <td>bogo</td>\n",
       "      <td>4d5c57ea9a6940dd891ad53e9dbe8da0</td>\n",
       "      <td>1</td>\n",
       "      <td>1</td>\n",
       "      <td>1</td>\n",
       "      <td>1</td>\n",
       "      <td>1</td>\n",
       "      <td>0</td>\n",
       "      <td>0</td>\n",
       "    </tr>\n",
       "    <tr>\n",
       "      <th>2</th>\n",
       "      <td>0</td>\n",
       "      <td>0</td>\n",
       "      <td>4</td>\n",
       "      <td>informational</td>\n",
       "      <td>3f207df678b143eea3cee63160fa8bed</td>\n",
       "      <td>1</td>\n",
       "      <td>1</td>\n",
       "      <td>1</td>\n",
       "      <td>0</td>\n",
       "      <td>0</td>\n",
       "      <td>0</td>\n",
       "      <td>1</td>\n",
       "    </tr>\n",
       "    <tr>\n",
       "      <th>3</th>\n",
       "      <td>5</td>\n",
       "      <td>5</td>\n",
       "      <td>7</td>\n",
       "      <td>bogo</td>\n",
       "      <td>9b98b8c7a33c4b65b9aebfe6a799e6d9</td>\n",
       "      <td>1</td>\n",
       "      <td>1</td>\n",
       "      <td>1</td>\n",
       "      <td>0</td>\n",
       "      <td>1</td>\n",
       "      <td>0</td>\n",
       "      <td>0</td>\n",
       "    </tr>\n",
       "    <tr>\n",
       "      <th>4</th>\n",
       "      <td>5</td>\n",
       "      <td>20</td>\n",
       "      <td>10</td>\n",
       "      <td>discount</td>\n",
       "      <td>0b1e1539f2cc45b7b9fa7c272da2e1d7</td>\n",
       "      <td>1</td>\n",
       "      <td>1</td>\n",
       "      <td>0</td>\n",
       "      <td>0</td>\n",
       "      <td>0</td>\n",
       "      <td>1</td>\n",
       "      <td>0</td>\n",
       "    </tr>\n",
       "    <tr>\n",
       "      <th>5</th>\n",
       "      <td>3</td>\n",
       "      <td>7</td>\n",
       "      <td>7</td>\n",
       "      <td>discount</td>\n",
       "      <td>2298d6c36e964ae4a3e7e9706d1fb8c2</td>\n",
       "      <td>1</td>\n",
       "      <td>1</td>\n",
       "      <td>1</td>\n",
       "      <td>1</td>\n",
       "      <td>0</td>\n",
       "      <td>1</td>\n",
       "      <td>0</td>\n",
       "    </tr>\n",
       "    <tr>\n",
       "      <th>6</th>\n",
       "      <td>2</td>\n",
       "      <td>10</td>\n",
       "      <td>10</td>\n",
       "      <td>discount</td>\n",
       "      <td>fafdcd668e3743c1bb461111dcafc2a4</td>\n",
       "      <td>1</td>\n",
       "      <td>1</td>\n",
       "      <td>1</td>\n",
       "      <td>1</td>\n",
       "      <td>0</td>\n",
       "      <td>1</td>\n",
       "      <td>0</td>\n",
       "    </tr>\n",
       "    <tr>\n",
       "      <th>7</th>\n",
       "      <td>0</td>\n",
       "      <td>0</td>\n",
       "      <td>3</td>\n",
       "      <td>informational</td>\n",
       "      <td>5a8bc65990b245e5a138643cd4eb9837</td>\n",
       "      <td>0</td>\n",
       "      <td>1</td>\n",
       "      <td>1</td>\n",
       "      <td>1</td>\n",
       "      <td>0</td>\n",
       "      <td>0</td>\n",
       "      <td>1</td>\n",
       "    </tr>\n",
       "    <tr>\n",
       "      <th>8</th>\n",
       "      <td>5</td>\n",
       "      <td>5</td>\n",
       "      <td>5</td>\n",
       "      <td>bogo</td>\n",
       "      <td>f19421c1d4aa40978ebb69ca19b0e20d</td>\n",
       "      <td>1</td>\n",
       "      <td>1</td>\n",
       "      <td>1</td>\n",
       "      <td>1</td>\n",
       "      <td>1</td>\n",
       "      <td>0</td>\n",
       "      <td>0</td>\n",
       "    </tr>\n",
       "    <tr>\n",
       "      <th>9</th>\n",
       "      <td>2</td>\n",
       "      <td>10</td>\n",
       "      <td>7</td>\n",
       "      <td>discount</td>\n",
       "      <td>2906b810c7d4411798c6938adc9daaa5</td>\n",
       "      <td>1</td>\n",
       "      <td>1</td>\n",
       "      <td>1</td>\n",
       "      <td>0</td>\n",
       "      <td>0</td>\n",
       "      <td>1</td>\n",
       "      <td>0</td>\n",
       "    </tr>\n",
       "  </tbody>\n",
       "</table>\n",
       "</div>"
      ],
      "text/plain": [
       "   reward  difficulty  duration     offer_type  \\\n",
       "0      10          10         7           bogo   \n",
       "1      10          10         5           bogo   \n",
       "2       0           0         4  informational   \n",
       "3       5           5         7           bogo   \n",
       "4       5          20        10       discount   \n",
       "5       3           7         7       discount   \n",
       "6       2          10        10       discount   \n",
       "7       0           0         3  informational   \n",
       "8       5           5         5           bogo   \n",
       "9       2          10         7       discount   \n",
       "\n",
       "                                 id  web  email  mobile  social  bogo  \\\n",
       "0  ae264e3637204a6fb9bb56bc8210ddfd    0      1       1       1     1   \n",
       "1  4d5c57ea9a6940dd891ad53e9dbe8da0    1      1       1       1     1   \n",
       "2  3f207df678b143eea3cee63160fa8bed    1      1       1       0     0   \n",
       "3  9b98b8c7a33c4b65b9aebfe6a799e6d9    1      1       1       0     1   \n",
       "4  0b1e1539f2cc45b7b9fa7c272da2e1d7    1      1       0       0     0   \n",
       "5  2298d6c36e964ae4a3e7e9706d1fb8c2    1      1       1       1     0   \n",
       "6  fafdcd668e3743c1bb461111dcafc2a4    1      1       1       1     0   \n",
       "7  5a8bc65990b245e5a138643cd4eb9837    0      1       1       1     0   \n",
       "8  f19421c1d4aa40978ebb69ca19b0e20d    1      1       1       1     1   \n",
       "9  2906b810c7d4411798c6938adc9daaa5    1      1       1       0     0   \n",
       "\n",
       "   discount  informational  \n",
       "0         0              0  \n",
       "1         0              0  \n",
       "2         0              1  \n",
       "3         0              0  \n",
       "4         1              0  \n",
       "5         1              0  \n",
       "6         1              0  \n",
       "7         0              1  \n",
       "8         0              0  \n",
       "9         1              0  "
      ]
     },
     "execution_count": 18,
     "metadata": {},
     "output_type": "execute_result"
    }
   ],
   "source": [
    "portfolio"
   ]
  },
  {
   "cell_type": "code",
   "execution_count": 19,
   "metadata": {},
   "outputs": [
    {
     "data": {
      "image/png": "[encoded data removed]",
      "text/plain": [
       "<Figure size 432x288 with 1 Axes>"
      ]
     },
     "metadata": {
      "needs_background": "light"
     },
     "output_type": "display_data"
    }
   ],
   "source": [
    "def best_offers(customer_matrix,plot=True):\n",
    "    '''\n",
    "    Find the offer that generates more revenew\n",
    "    '''\n",
    "    offer_gain = []\n",
    "    for offer_id in customer_matrix.columns:\n",
    "        offer_gain.append([offer_id, transcript[(transcript['customer_id'].isin(list(customer_matrix[customer_matrix[offer_id]>=1].index)))&(transcript['event']=='transaction')]['amount'].sum()])\n",
    "\n",
    "    offer_value = pd.DataFrame(offer_gain, columns=['offer_id', 'revenue'])\n",
    "    offer_value['revenue'] = pd.to_numeric(offer_value['revenue'])\n",
    "    offer_value.sort_values(by='revenue', ascending=False, inplace=True)\n",
    "    if plot== True:\n",
    "        best_sale = offer_value.plot('offer_id','revenue',kind='bar', title='Sales revenue for the different offers')\n",
    "        best_sale.set_xlabel('Offer id')\n",
    "        best_sale.set_ylabel('Amount')\n",
    "    \n",
    "    return offer_value\n",
    "best_offer_revenue = best_offers(full_customer_matrix)"
   ]
  },
  {
   "cell_type": "code",
   "execution_count": 20,
   "metadata": {},
   "outputs": [],
   "source": [
    "def gender_vs_offertype(full_customer_matrix):\n",
    "\n",
    "    gender_df = transcript[['customer_id','gender']].groupby('customer_id').min()\n",
    "    acummulative_gender = pd.DataFrame(data=[[0,0],[0,0],[0,0]], index=['F', 'M', 'O'], columns=['bogo', 'discount'])\n",
    "    offer_type_df=portfolio[['bogo','discount']]\n",
    "\n",
    "    for customer_id in full_customer_matrix.index:\n",
    "        row = full_customer_matrix.loc[customer_id]\n",
    "        for offer_id in full_customer_matrix.columns:\n",
    "            offer = row[offer_id]\n",
    "            if offer>=1:\n",
    "                if offer_type_df.loc[offer_id]['bogo']==1:\n",
    "                    offer_type ='bogo' \n",
    "                elif offer_type_df.loc[offer_id]['discount']==1: \n",
    "                    offer_type ='discount'\n",
    "                gen = gender_df.loc[customer_id]['gender']\n",
    "                acummulative_gender.loc[gen][offer_type] += 1\n",
    "\n",
    "        \n",
    "    return acummulative_gender\n",
    "g_vs_offer_abs = gender_vs_offertype(full_customer_matrix)"
   ]
  },
  {
   "cell_type": "markdown",
   "metadata": {},
   "source": [
    "* Reaction of type of offer depending on the gender of the customer"
   ]
  },
  {
   "cell_type": "code",
   "execution_count": 21,
   "metadata": {},
   "outputs": [
    {
     "data": {
      "image/png": "[encoded data removed]",
      "text/plain": [
       "<Figure size 432x288 with 1 Axes>"
      ]
     },
     "metadata": {
      "needs_background": "light"
     },
     "output_type": "display_data"
    }
   ],
   "source": [
    "g_vs_offer_perc = g_vs_offer_abs/g_vs_offer_abs.sum() *100\n",
    "g_vs_offer_plot = g_vs_offer_perc.plot(kind='bar',title='Count of offer type vs gender');\n",
    "g_vs_offer_plot.set_xlabel(\"Gender\");\n",
    "g_vs_offer_plot.set_ylabel(\"Percentage\");\n",
    "plt.savefig('img/gender_offer_type.png')"
   ]
  },
  {
   "cell_type": "markdown",
   "metadata": {},
   "source": [
    "## Recomendation for old and new customers\n",
    "* Defined using the FunkSVD matrix defined earlier."
   ]
  },
  {
   "cell_type": "code",
   "execution_count": 22,
   "metadata": {},
   "outputs": [],
   "source": [
    "def recommend_offer(customer_id, train_customer_mat, train_offer_mat):\n",
    "    recommendation = {}\n",
    "    for offer_id in train_customer_matrix.columns:\n",
    "        pred_val = cutomer_reaction_pred(train_customer_mat, train_offer_mat, customer_id, offer_id)\n",
    "        if pred_val != None:\n",
    "            recommendation[offer_id] = pred_val\n",
    "        else:\n",
    "            break\n",
    "    if pred_val == None:\n",
    "        print(\"This customer is not in our database, recomended offers are the offers having the best sales.\")\n",
    "        top_offer = best_offers(full_customer_matrix,False)\n",
    "        for offer_id in top_offer['offer_id']:\n",
    "            print(\"offer id: \", offer_id)\n",
    "    else:\n",
    "        print(\"Recommend offer for customer \", customer_id)\n",
    "        for offer_id, pred_val in sorted(recommendation.items(), key=lambda kv:(kv[1], kv[0]), reverse=True):\n",
    "            print(\"offer id: \", offer_id, \" prediction: \", round(pred_val,2))\n",
    "\n"
   ]
  },
  {
   "cell_type": "code",
   "execution_count": 23,
   "metadata": {},
   "outputs": [
    {
     "name": "stdout",
     "output_type": "stream",
     "text": [
      "This customer is not in our database, recomended offers are the offers having the best sales.\n",
      "offer id:  6.0\n",
      "offer id:  5.0\n",
      "offer id:  8.0\n",
      "offer id:  0.0\n",
      "offer id:  1.0\n",
      "offer id:  9.0\n",
      "offer id:  3.0\n",
      "offer id:  4.0\n"
     ]
    }
   ],
   "source": [
    "# recommend offer for a particular user\n",
    "recommend_offer(15000, train_customer_mat, train_offer_mat)"
   ]
  },
  {
   "cell_type": "code",
   "execution_count": 24,
   "metadata": {},
   "outputs": [
    {
     "name": "stdout",
     "output_type": "stream",
     "text": [
      "Recommend offer for customer  3\n",
      "offer id:  5.0  prediction:  1.55\n",
      "offer id:  8.0  prediction:  1.06\n",
      "offer id:  3.0  prediction:  0.97\n",
      "offer id:  9.0  prediction:  0.97\n",
      "offer id:  4.0  prediction:  0.66\n",
      "offer id:  0.0  prediction:  0.17\n",
      "offer id:  1.0  prediction:  -0.05\n",
      "offer id:  6.0  prediction:  -0.81\n"
     ]
    }
   ],
   "source": [
    "# recommend offer for a particular user\n",
    "recommend_offer(3, train_customer_mat, train_offer_mat)"
   ]
  },
  {
   "cell_type": "code",
   "execution_count": null,
   "metadata": {},
   "outputs": [],
   "source": []
  }
 ],
 "metadata": {
  "kernelspec": {
   "display_name": "Python 3",
   "language": "python",
   "name": "python3"
  },
  "language_info": {
   "codemirror_mode": {
    "name": "ipython",
    "version": 3
   },
   "file_extension": ".py",
   "mimetype": "text/x-python",
   "name": "python",
   "nbconvert_exporter": "python",
   "pygments_lexer": "ipython3",
   "version": "3.7.6"
  }
 },
 "nbformat": 4,
 "nbformat_minor": 4
}
